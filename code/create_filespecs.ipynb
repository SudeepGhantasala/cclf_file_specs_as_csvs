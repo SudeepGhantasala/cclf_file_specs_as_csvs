{
 "cells": [
  {
   "cell_type": "code",
   "execution_count": 1,
   "id": "864be5b9",
   "metadata": {},
   "outputs": [],
   "source": [
    "import pandas as pd\n",
    "import os\n",
    "import glob"
   ]
  },
  {
   "cell_type": "code",
   "execution_count": 2,
   "id": "a675d443",
   "metadata": {},
   "outputs": [],
   "source": [
    "#cleanup cclf_filespec_files"
   ]
  },
  {
   "cell_type": "code",
   "execution_count": 3,
   "id": "e6c41b38",
   "metadata": {},
   "outputs": [
    {
     "name": "stdout",
     "output_type": "stream",
     "text": [
      "1\n",
      "2\n",
      "3\n",
      "4\n",
      "5\n",
      "6\n",
      "7\n",
      "8\n",
      "9\n",
      "a\n",
      "b\n",
      "0\n"
     ]
    }
   ],
   "source": [
    "required_columns = ['Element #', 'field_label', 'field_name', 'Start Position',\n",
    "   'End Position', 'Data Length', 'Format']\n",
    "\n",
    "for file_num in ['1', '2', '3', '4', '5', '6', '7', '8', '9', 'a', 'b', '0']:\n",
    "    print(file_num)\n",
    "    df = pd.read_excel('./sources/CCLF_IP_508_v36.xlsx', sheet_name = f'cclf_{file_num}')\n",
    "    df.dropna(axis = 1, how = 'all', inplace = True)\n",
    "    df.rename(columns = {'Element Name' : 'field_label',\n",
    "                         'Data Description' : 'field_name',\n",
    "                         'Beneficiary Field Name' : 'field_name',\n",
    "                         'Beneficiary Field Label' : 'field_label',\n",
    "                         'Claim Field Label' : 'field_label',\n",
    "                         'Claim Field Name' : 'field_name'},  inplace = True)\n",
    "    \n",
    "    df = df.loc[df['Element #'] != 'Element #'].reset_index(drop = True)\n",
    "    df = df.loc[df['Element #'] != '8\\nCONTINUED'].reset_index(drop = True)\n",
    "    df = df.loc[df['Element #'] != '18\\nCONTINUED'].reset_index(drop = True)\n",
    "\n",
    "    df['field_name'] = df['field_name'].str.replace('\\n', '-', regex = False)\n",
    "\n",
    "    df = df.loc[:, required_columns].reset_index(drop = True).copy()\n",
    "\n",
    "    df['Element #'] = df['Element #'].astype(int)\n",
    "    df['new_end_position'] = df['Element #'] + df['End Position'] - 1\n",
    "    \n",
    "    df.to_csv(f'../cclf_{file_num}.csv', index = False)\n"
   ]
  },
  {
   "cell_type": "code",
   "execution_count": null,
   "id": "1b5d6951",
   "metadata": {},
   "outputs": [],
   "source": []
  },
  {
   "cell_type": "code",
   "execution_count": null,
   "id": "812f5f23",
   "metadata": {},
   "outputs": [],
   "source": []
  }
 ],
 "metadata": {
  "kernelspec": {
   "display_name": "Python 3 (ipykernel)",
   "language": "python",
   "name": "python3"
  },
  "language_info": {
   "codemirror_mode": {
    "name": "ipython",
    "version": 3
   },
   "file_extension": ".py",
   "mimetype": "text/x-python",
   "name": "python",
   "nbconvert_exporter": "python",
   "pygments_lexer": "ipython3",
   "version": "3.11.1"
  }
 },
 "nbformat": 4,
 "nbformat_minor": 5
}
